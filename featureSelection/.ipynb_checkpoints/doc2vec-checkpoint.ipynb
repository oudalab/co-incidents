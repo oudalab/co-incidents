{
 "cells": [
  {
   "cell_type": "code",
   "execution_count": 2,
   "metadata": {
    "collapsed": true
   },
   "outputs": [],
   "source": [
    "import json"
   ]
  },
  {
   "cell_type": "code",
   "execution_count": 3,
   "metadata": {},
   "outputs": [
    {
     "ename": "ImportError",
     "evalue": "No module named 'gensim'",
     "output_type": "error",
     "traceback": [
      "\u001b[0;31m---------------------------------------------------------------------------\u001b[0m",
      "\u001b[0;31mImportError\u001b[0m                               Traceback (most recent call last)",
      "\u001b[0;32m<ipython-input-3-e211aa6fc07e>\u001b[0m in \u001b[0;36m<module>\u001b[0;34m()\u001b[0m\n\u001b[0;32m----> 1\u001b[0;31m \u001b[0;32mimport\u001b[0m \u001b[0mgensim\u001b[0m\u001b[0;34m\u001b[0m\u001b[0m\n\u001b[0m\u001b[1;32m      2\u001b[0m \u001b[0;32mimport\u001b[0m \u001b[0mos\u001b[0m\u001b[0;34m\u001b[0m\u001b[0m\n\u001b[1;32m      3\u001b[0m \u001b[0;32mimport\u001b[0m \u001b[0mre\u001b[0m\u001b[0;34m\u001b[0m\u001b[0m\n\u001b[1;32m      4\u001b[0m \u001b[0;32mfrom\u001b[0m \u001b[0mnltk\u001b[0m\u001b[0;34m.\u001b[0m\u001b[0mtokenize\u001b[0m \u001b[0;32mimport\u001b[0m \u001b[0mRegexpTokenizer\u001b[0m\u001b[0;34m\u001b[0m\u001b[0m\n\u001b[1;32m      5\u001b[0m \u001b[0;32mfrom\u001b[0m \u001b[0mstop_words\u001b[0m \u001b[0;32mimport\u001b[0m \u001b[0mget_stop_words\u001b[0m\u001b[0;34m\u001b[0m\u001b[0m\n",
      "\u001b[0;31mImportError\u001b[0m: No module named 'gensim'"
     ]
    }
   ],
   "source": [
    "import gensim\n",
    "import os\n",
    "import re\n",
    "from nltk.tokenize import RegexpTokenizer\n",
    "from stop_words import get_stop_words\n",
    "from nltk.stem.porter import PorterStemmer\n",
    "from gensim.models.doc2vec import TaggedDocument\n",
    " \n",
    "def get_doc_list(folder_name):\n",
    "    doc_list = []\n",
    "    file_list = [folder_name+'/'+name for name in os.listdir(folder_name) if name.endswith('txt')]\n",
    "    for file in file_list:\n",
    "        st = open(file,'r').read()\n",
    "        doc_list.append(st)\n",
    "    print ('Found %s documents under the dir %s .....'%(len(file_list),folder_name))\n",
    "    return doc_list\n",
    " \n",
    "def get_doc():\n",
    "    \n",
    "    #doc_list = doclist#get_doc_list(folder_name)\n",
    "    tokenizer = RegexpTokenizer(r'\\w+')\n",
    "    en_stop = get_stop_words('en')\n",
    "    p_stemmer = PorterStemmer()\n",
    " \n",
    "    taggeddoc = []\n",
    " \n",
    "    texts = []\n",
    "    for index,i in enumerate(doc_list):\n",
    "        # for tagged doc\n",
    "        wordslist = []\n",
    "        tagslist = []\n",
    " \n",
    "        # clean and tokenize document string\n",
    "        raw = i['doc'].lower()\n",
    "        tokens = tokenizer.tokenize(raw)\n",
    " \n",
    "        # remove stop words from tokens\n",
    "        stopped_tokens = [i for i in tokens if not i in en_stop]\n",
    " \n",
    "        # remove numbers\n",
    "        number_tokens = [re.sub(r'[\\d]', ' ', i) for i in stopped_tokens]\n",
    "        number_tokens = ' '.join(number_tokens).split()\n",
    " \n",
    "        # stem tokens\n",
    "        stemmed_tokens = [p_stemmer.stem(i) for i in number_tokens]\n",
    "        # remove empty\n",
    "        length_tokens = [i for i in stemmed_tokens if len(i) > 1]\n",
    "        # add tokens to list\n",
    "        texts.append(length_tokens)\n",
    "        #the index\n",
    "        if(index<5):\n",
    "            print(i);\n",
    "        td = TaggedDocument(gensim.utils.to_unicode(str.encode(' '.join(stemmed_tokens))).split(),[i['id']])\n",
    "        #print(index);\n",
    "        taggeddoc.append(td)\n",
    " \n",
    "    return taggeddoc"
   ]
  },
  {
   "cell_type": "code",
   "execution_count": 9,
   "metadata": {},
   "outputs": [
    {
     "name": "stdout",
     "output_type": "stream",
     "text": [
      "{'doc': \"PEREVALNOYE, Crimea -- The soldiers guarding the entrances to the surrounded Ukrainian military base here just south of the capital, Simferopol, had little in common with their predecessors from past Russian military actions. Lean and fit, few if any seemed to be conscripts. Their uniforms were crisp and neat, and their new helmets were bedecked with tinted safety goggles. They were sober. And there was another indicator of an army undergoing an upgrade: compact encrypted radio units distributed at the small-unit level, including for soldiers on such routine duty as guard shifts beside machine-gun trucks. The radios are a telltale sign of a sweeping modernization effort undertaken five years ago by Vladimir V. Putin that has revitalized Russia's conventional military abilities, frightening some of its former vassal states in Eastern Europe and forcing NATO to re-evaluate its longstanding view of post-Soviet Russia as a nuclear power with limited ground muscle. Across Crimea in the past several weeks, a sleek new vanguard of the Russian military has been on display, with forces whose mobility, equipment and behavior were sharply different from those of the Russian forces seen in the brief war in Georgia in 2008 or throughout the North Caucasus over nearly two decades of conflict with Muslim separatists. Past Russian military actions have often showcased an army suffering from a poor state of discipline and supply, its ranks filled mostly with the conscripts who had not managed to buy deferments or otherwise evade military service. Public drunkenness was common, as were tactical indecisiveness and soldiers who often looked as if they could not run a mile, much less swiftly. Not so in Crimea. After a Kremlin campaign to overhaul the military, including improvements in training and equipment and, notably, large increases in pay, the results could be seen in the field. They were evident not only in the demeanor of the Russian soldiers but also in the speed with which they overwhelmed Crimea with minimal violence. The troops in Crimea may be the elite of the new Russian military. But the Kremlin's investment, analysts said, has revived the military, which has now shown that it can field a competent and even formidable force, and both guard the nation and project power to neighboring states. ''The development of Russian armed forces is going in two big trends, first strengthening of strategic nuclear forces, giving a guarantee that no one country in this world will try to attack Russia,'' said Aleksandr Golts, an independent military analyst in Moscow. ''Second, the development of these rapid deployment forces,'' he said, ''to deal with any kind of local conflict, such as the war against Georgia, or this operation in Ukraine or anywhere.'' ''As a result of these reforms,'' Mr. Golts added, ''Russia now has absolute superiority over any country in the post-Soviet space.'' One Western official who analyzes military forces in the region said the differences from the past were striking. ''It does seem to us that they are much more professional this time around,'' the official said, speaking on the condition of anonymity because he was not authorized to speak publicly. ''It's impressive.'' The transformation of the armed forces has been a personal priority of Mr. Putin, who as prime minister from 2009 to 2012 and more recently in his return to the presidency has overseen billions of dollars in new military expenditures. The military was one of the few areas of the Russian budget to receive big spending increases, along with preparations for the Sochi Olympics, the 2018 World Cup and improvements to the railroad system, which is also a military asset. Since the start of 2012, salaries for most military personnel have roughly tripled, to between $700 and $1,150 a month for privates and sergeants -- a respectable amount in Russian terms. The Kremlin has also expanded housing and education benefits. In a speech to military officers in February shortly after the raises were enacted, Mr. Putin declared, ''I have always believed that military servicemen should be paid, as has always been the case in Russia, by the way, even more than skilled specialists in the sphere of economics or administration or other civilian sectors.'' The spectacular rise in military spending, which is expected to increase to about $100 billion in 2016 from about $80 billion this year, even as the economy shows signs of recession, was one of the main reasons that Russia's respected finance minister, Aleksei L. Kudrin, who was credited with steering Russia safely through the 2008 financial crisis, left the government in 2011. Mr. Putin has been unapologetic. He has repeatedly emphasized that rebuilding the military is crucial to Russia's future. At his direction, a comprehensive, multiagency military strategy was developed for the first time, with ambitious goals that included bringing all units to permanent combat readiness and upgrading weapons systems. As commander in chief, Mr. Putin has also presided over unprecedented training exercises, including what the Kremlin billed as the largest peacetime mobilization ever -- about 160,000 troops, officials said, in Russia's Far East in the summer of 2013 -- and an array of drills in western Russia to prepare for potential threats along the borders with Europe and the Caucasus. ''Our goal is to create modern, mobile and well-equipped armed forces that can respond rapidly and adequately to all potential threats, guarantee peace, and protect our country, our people and our allies, and the future of our state and nation,'' Mr. Putin said in a meeting with military leaders in February 2013. The lightning-quick seizing of strategic installations and the surrounding of military bases in Crimea, including the base here in Perevalnoye, provided a clear show of the new Russian military's capabilities. It was a sharp contrast to the brief war with Georgia in 2008, when Russia overwhelmed its much smaller foe on a tiny patch of ground, but also revealed the sorry state of its own forces -- problems that stretched back to the two military campaigns in Chechnya. (In Georgia, Russian military vehicles were commonly seen broken down on the roads, with cursing soldiers beside them.) ''First of all, there were communications problems, because the communication is the basis of troop management,'' said Mikhail Khodaryonok, editor in chief of Military-Industrial Courier, a weekly newspaper focused on the Russian armed forces. ''Problems with communications were so obvious that sharp measures were taken to improve all types of communications, including the confidential communication,'' Mr. Khodaryonok said. The upgrade was visible down to the smallest unit levels in Crimea. Here at Perevalnoye, many soldiers on guard duty wore new push-to-talk encrypted radios -- a piece of equipment long used by American soldiers but only recently provided to conventional Russian units. The Western official said the wide distribution of the encrypted radios suggested more than procurement. It might also mean that Russian noncommissioned officers were exercising more tactical latitude and decision-making, a deeper type of overhaul that could make Russian units nimbler and more effective. ''That is a rather empowering device for the Russian Army,'' the official said. The radios were one part of a broad element of Mr. Putin's military overhaul: the replacement of equipment carried by individual soldiers. Known as the Ratnik program -- from the Russian word for warrior -- the upgrade includes new helmets, flak jackets with bulletproof plates, ballistic goggles, kneepads, uniforms, and communications and navigation equipment, as well as thermal and night-vision sights for firearms. Apparently modeled after the equipment upgrades visible on Western soldiers in Afghanistan and Iraq for more than a decade, the Ratnik kit has not yet been fully fielded. But many of its signature components were evident in Crimea, including the uniforms, helmets, goggles, flak jackets and kneepads. Out on the roads, Russian forces could also be seen deploying electronic-warfare platforms, including the new Tigr-M and the R-330Zh jamming station, which can block GPS and satellite telephone signals. Like many of the Russian military vehicles visible in the crisis, these vehicles contrasted with those seen in Georgia or the North Caucasus in that they had fresh paint jobs and new tires, and seemed to be in an excellent state of repair. While analysts said that there was now better equipment and training throughout the Russian military, some cautioned against drawing too broad a conclusion based on the forces in Crimea, many of which were part of elite units that were among the first to benefit from the overhaul. ''It is certainly a step up from where they were in 2008, but how far of a step up we don't know yet,'' said Dmitry Gorenburg, a senior analyst with the Center for Naval Analyses, a Virginia-based research group financed by the United States government. ''Is the Russian military now a conventional threat to NATO? I don't think so. I don't think it's that much of an improvement yet. It could be down the road.'' Mr. Gorenburg noted that the Russian troops had faced no opposition, and that there had been no fighting. ''Essentially they were taking over facilities and buildings from troops that had been given no orders or who had been given orders not to resist,'' he said. ''There was no actual combat.'' Mr. Khodaryonok, the editor of Military-Industrial Courier, said it would be a while before the modernization campaign spreads to all the armed forces. Nevertheless, he said, the military had made extraordinary strides. ''Everything is in order,'' he said. ''There is no more such shame as broken tanks and A.P.C.'s on the road and outdated weaponry.'' More important, he said, the military was able to make it all work. ''The biggest achievement, in my opinion, is how the management was organized,'' he said. ''The operation's cover, its quickness and suddenness. There were no data leaks.'' ''The epoch of decay has been fully overcome,'' he said. ''And the armed forces of the country are on the rise.''\", 'id': '572e13a5172ab83171ecc133_1'}\n",
      "{'doc': 'The British telecommunications company Cable and Wireless sold its stake in the Hong Kong phone company PCCW as part of a strategy to exit unprofitable markets. Cable and Wireless sold the stake, 652 million shares that represent about 14 percent of the company, for about $400 million. The company held the shares on its books at $:235 million ($390 million) as of March 31. On Wednesday, Cable and Wireless said it would exit the United States, and concentrate on business in Britain.   Heather Timmons (NYT)', 'id': '572e0b96172ab83171eb8cfe_4'}\n",
      "{'doc': \"The federal government has drawn up plans to send an additional $2.5 billion in aid to New York and New Jersey to help pay for the recovery from Hurricane Sandy, government officials said on Friday. The money, almost $1 billion of which would go to New York City, would constitute the third installment of aid from the $50 billion that Congress approved in early 2013. The rest of New York State would receive about $600 million and New Jersey would get about $880 million, the officials said. Nearly two-thirds of the latest allocation to the city is intended for the Build It Back housing program. Mayor Bill de Blasio of New York thanked Senator Charles E. Schumer, a fellow Democrat, for helping the city obtain the aid, which he said ''ensures that we'll be able to provide the support that every homeowner in the Build It Back pipeline needs and deserves.'' The latest allocations would bring the total awarded to New York and New Jersey to nearly $13 billion. New York State's total would rise to $4.4 billion, while New York City and New Jersey have been promised about $4.2 billion each. New Jersey's governor, Chris Christie, has criticized the federal government for providing nearly twice as much of the recovery aid to New York State, including the city, as to New Jersey. A spokesman for Governor Christie declined to comment on Friday. The three governments have yet to spend all of the first allocations they received and are still awaiting the money awarded in the second round. Their plans for how they would spend the second installments still need the approval of the federal Department of Housing and Urban Development. Gov. Andrew M. Cuomo of New York called the money the ''third and final tranche'' of the federal disaster relief. He said the state would spend most of it on infrastructure projects intended to help communities on Long Island and elsewhere protect themselves against future storms. Through its New York Rising program, the state spent much of the initial money it received on providing housing assistance and compensating homeowners for the costs of repairing and, in some cases, raising their houses off the ground. ''New Yorkers have suffered a tremendous burden in recent years with 100-year storms coming every year,'' Mr. Cuomo said in a prepared statement. Those and other ''weather emergencies,'' he said, have forced residents of the state ''to be innovative, resourceful and strategic in our recovery efforts.''\", 'id': '572e1600172ab83171ed1c01_3'}\n",
      "{'doc': \"The federal government has drawn up plans to send an additional $2.5 billion in aid to New York and New Jersey to help pay for the recovery from Hurricane Sandy, government officials said on Friday. The money, almost $1 billion of which would go to New York City, would constitute the third installment of aid from the $50 billion that Congress approved in early 2013. The rest of New York State would receive about $600 million and New Jersey would get about $880 million, the officials said. Nearly two-thirds of the latest allocation to the city is intended for the Build It Back housing program. Mayor Bill de Blasio of New York thanked Senator Charles E. Schumer, a fellow Democrat, for helping the city obtain the aid, which he said ''ensures that we'll be able to provide the support that every homeowner in the Build It Back pipeline needs and deserves.'' The latest allocations would bring the total awarded to New York and New Jersey to nearly $13 billion. New York State's total would rise to $4.4 billion, while New York City and New Jersey have been promised about $4.2 billion each. New Jersey's governor, Chris Christie, has criticized the federal government for providing nearly twice as much of the recovery aid to New York State, including the city, as to New Jersey. A spokesman for Governor Christie declined to comment on Friday. The three governments have yet to spend all of the first allocations they received and are still awaiting the money awarded in the second round. Their plans for how they would spend the second installments still need the approval of the federal Department of Housing and Urban Development. Gov. Andrew M. Cuomo of New York called the money the ''third and final tranche'' of the federal disaster relief. He said the state would spend most of it on infrastructure projects intended to help communities on Long Island and elsewhere protect themselves against future storms. Through its New York Rising program, the state spent much of the initial money it received on providing housing assistance and compensating homeowners for the costs of repairing and, in some cases, raising their houses off the ground. ''New Yorkers have suffered a tremendous burden in recent years with 100-year storms coming every year,'' Mr. Cuomo said in a prepared statement. Those and other ''weather emergencies,'' he said, have forced residents of the state ''to be innovative, resourceful and strategic in our recovery efforts.''\", 'id': '572e1600172ab83171ed1c01_7'}\n",
      "{'doc': \"The federal government has drawn up plans to send an additional $2.5 billion in aid to New York and New Jersey to help pay for the recovery from Hurricane Sandy, government officials said on Friday. The money, almost $1 billion of which would go to New York City, would constitute the third installment of aid from the $50 billion that Congress approved in early 2013. The rest of New York State would receive about $600 million and New Jersey would get about $880 million, the officials said. Nearly two-thirds of the latest allocation to the city is intended for the Build It Back housing program. Mayor Bill de Blasio of New York thanked Senator Charles E. Schumer, a fellow Democrat, for helping the city obtain the aid, which he said ''ensures that we'll be able to provide the support that every homeowner in the Build It Back pipeline needs and deserves.'' The latest allocations would bring the total awarded to New York and New Jersey to nearly $13 billion. New York State's total would rise to $4.4 billion, while New York City and New Jersey have been promised about $4.2 billion each. New Jersey's governor, Chris Christie, has criticized the federal government for providing nearly twice as much of the recovery aid to New York State, including the city, as to New Jersey. A spokesman for Governor Christie declined to comment on Friday. The three governments have yet to spend all of the first allocations they received and are still awaiting the money awarded in the second round. Their plans for how they would spend the second installments still need the approval of the federal Department of Housing and Urban Development. Gov. Andrew M. Cuomo of New York called the money the ''third and final tranche'' of the federal disaster relief. He said the state would spend most of it on infrastructure projects intended to help communities on Long Island and elsewhere protect themselves against future storms. Through its New York Rising program, the state spent much of the initial money it received on providing housing assistance and compensating homeowners for the costs of repairing and, in some cases, raising their houses off the ground. ''New Yorkers have suffered a tremendous burden in recent years with 100-year storms coming every year,'' Mr. Cuomo said in a prepared statement. Those and other ''weather emergencies,'' he said, have forced residents of the state ''to be innovative, resourceful and strategic in our recovery efforts.''\", 'id': '572e1600172ab83171ed1c01_5'}\n"
     ]
    },
    {
     "ename": "KeyboardInterrupt",
     "evalue": "",
     "output_type": "error",
     "traceback": [
      "\u001b[0;31m---------------------------------------------------------------------------\u001b[0m",
      "\u001b[0;31mKeyboardInterrupt\u001b[0m                         Traceback (most recent call last)",
      "\u001b[0;32m<ipython-input-9-02803a1b3ff5>\u001b[0m in \u001b[0;36m<module>\u001b[0;34m()\u001b[0m\n\u001b[0;32m----> 1\u001b[0;31m \u001b[0mtaggeddoc\u001b[0m\u001b[0;34m=\u001b[0m\u001b[0mget_doc\u001b[0m\u001b[0;34m(\u001b[0m\u001b[0;34m)\u001b[0m\u001b[0;34m\u001b[0m\u001b[0m\n\u001b[0m",
      "\u001b[0;32m<ipython-input-8-06ec7343450f>\u001b[0m in \u001b[0;36mget_doc\u001b[0;34m()\u001b[0m\n\u001b[1;32m     43\u001b[0m \u001b[0;34m\u001b[0m\u001b[0m\n\u001b[1;32m     44\u001b[0m         \u001b[0;31m# stem tokens\u001b[0m\u001b[0;34m\u001b[0m\u001b[0;34m\u001b[0m\u001b[0m\n\u001b[0;32m---> 45\u001b[0;31m         \u001b[0mstemmed_tokens\u001b[0m \u001b[0;34m=\u001b[0m \u001b[0;34m[\u001b[0m\u001b[0mp_stemmer\u001b[0m\u001b[0;34m.\u001b[0m\u001b[0mstem\u001b[0m\u001b[0;34m(\u001b[0m\u001b[0mi\u001b[0m\u001b[0;34m)\u001b[0m \u001b[0;32mfor\u001b[0m \u001b[0mi\u001b[0m \u001b[0;32min\u001b[0m \u001b[0mnumber_tokens\u001b[0m\u001b[0;34m]\u001b[0m\u001b[0;34m\u001b[0m\u001b[0m\n\u001b[0m\u001b[1;32m     46\u001b[0m         \u001b[0;31m# remove empty\u001b[0m\u001b[0;34m\u001b[0m\u001b[0;34m\u001b[0m\u001b[0m\n\u001b[1;32m     47\u001b[0m         \u001b[0mlength_tokens\u001b[0m \u001b[0;34m=\u001b[0m \u001b[0;34m[\u001b[0m\u001b[0mi\u001b[0m \u001b[0;32mfor\u001b[0m \u001b[0mi\u001b[0m \u001b[0;32min\u001b[0m \u001b[0mstemmed_tokens\u001b[0m \u001b[0;32mif\u001b[0m \u001b[0mlen\u001b[0m\u001b[0;34m(\u001b[0m\u001b[0mi\u001b[0m\u001b[0;34m)\u001b[0m \u001b[0;34m>\u001b[0m \u001b[0;36m1\u001b[0m\u001b[0;34m]\u001b[0m\u001b[0;34m\u001b[0m\u001b[0m\n",
      "\u001b[0;32m<ipython-input-8-06ec7343450f>\u001b[0m in \u001b[0;36m<listcomp>\u001b[0;34m(.0)\u001b[0m\n\u001b[1;32m     43\u001b[0m \u001b[0;34m\u001b[0m\u001b[0m\n\u001b[1;32m     44\u001b[0m         \u001b[0;31m# stem tokens\u001b[0m\u001b[0;34m\u001b[0m\u001b[0;34m\u001b[0m\u001b[0m\n\u001b[0;32m---> 45\u001b[0;31m         \u001b[0mstemmed_tokens\u001b[0m \u001b[0;34m=\u001b[0m \u001b[0;34m[\u001b[0m\u001b[0mp_stemmer\u001b[0m\u001b[0;34m.\u001b[0m\u001b[0mstem\u001b[0m\u001b[0;34m(\u001b[0m\u001b[0mi\u001b[0m\u001b[0;34m)\u001b[0m \u001b[0;32mfor\u001b[0m \u001b[0mi\u001b[0m \u001b[0;32min\u001b[0m \u001b[0mnumber_tokens\u001b[0m\u001b[0;34m]\u001b[0m\u001b[0;34m\u001b[0m\u001b[0m\n\u001b[0m\u001b[1;32m     46\u001b[0m         \u001b[0;31m# remove empty\u001b[0m\u001b[0;34m\u001b[0m\u001b[0;34m\u001b[0m\u001b[0m\n\u001b[1;32m     47\u001b[0m         \u001b[0mlength_tokens\u001b[0m \u001b[0;34m=\u001b[0m \u001b[0;34m[\u001b[0m\u001b[0mi\u001b[0m \u001b[0;32mfor\u001b[0m \u001b[0mi\u001b[0m \u001b[0;32min\u001b[0m \u001b[0mstemmed_tokens\u001b[0m \u001b[0;32mif\u001b[0m \u001b[0mlen\u001b[0m\u001b[0;34m(\u001b[0m\u001b[0mi\u001b[0m\u001b[0;34m)\u001b[0m \u001b[0;34m>\u001b[0m \u001b[0;36m1\u001b[0m\u001b[0;34m]\u001b[0m\u001b[0;34m\u001b[0m\u001b[0m\n",
      "\u001b[0;32m~/eventData/yan-virtualenv/document_cluster/lib/python3.6/site-packages/nltk/stem/porter.py\u001b[0m in \u001b[0;36mstem\u001b[0;34m(self, word)\u001b[0m\n\u001b[1;32m    666\u001b[0m         \u001b[0mstem\u001b[0m \u001b[0;34m=\u001b[0m \u001b[0mself\u001b[0m\u001b[0;34m.\u001b[0m\u001b[0m_step1b\u001b[0m\u001b[0;34m(\u001b[0m\u001b[0mstem\u001b[0m\u001b[0;34m)\u001b[0m\u001b[0;34m\u001b[0m\u001b[0m\n\u001b[1;32m    667\u001b[0m         \u001b[0mstem\u001b[0m \u001b[0;34m=\u001b[0m \u001b[0mself\u001b[0m\u001b[0;34m.\u001b[0m\u001b[0m_step1c\u001b[0m\u001b[0;34m(\u001b[0m\u001b[0mstem\u001b[0m\u001b[0;34m)\u001b[0m\u001b[0;34m\u001b[0m\u001b[0m\n\u001b[0;32m--> 668\u001b[0;31m         \u001b[0mstem\u001b[0m \u001b[0;34m=\u001b[0m \u001b[0mself\u001b[0m\u001b[0;34m.\u001b[0m\u001b[0m_step2\u001b[0m\u001b[0;34m(\u001b[0m\u001b[0mstem\u001b[0m\u001b[0;34m)\u001b[0m\u001b[0;34m\u001b[0m\u001b[0m\n\u001b[0m\u001b[1;32m    669\u001b[0m         \u001b[0mstem\u001b[0m \u001b[0;34m=\u001b[0m \u001b[0mself\u001b[0m\u001b[0;34m.\u001b[0m\u001b[0m_step3\u001b[0m\u001b[0;34m(\u001b[0m\u001b[0mstem\u001b[0m\u001b[0;34m)\u001b[0m\u001b[0;34m\u001b[0m\u001b[0m\n\u001b[1;32m    670\u001b[0m         \u001b[0mstem\u001b[0m \u001b[0;34m=\u001b[0m \u001b[0mself\u001b[0m\u001b[0;34m.\u001b[0m\u001b[0m_step4\u001b[0m\u001b[0;34m(\u001b[0m\u001b[0mstem\u001b[0m\u001b[0;34m)\u001b[0m\u001b[0;34m\u001b[0m\u001b[0m\n",
      "\u001b[0;32m~/eventData/yan-virtualenv/document_cluster/lib/python3.6/site-packages/nltk/stem/porter.py\u001b[0m in \u001b[0;36m_step2\u001b[0;34m(self, word)\u001b[0m\n\u001b[1;32m    486\u001b[0m             \u001b[0;34m(\u001b[0m\u001b[0;34m'ation'\u001b[0m\u001b[0;34m,\u001b[0m \u001b[0;34m'ate'\u001b[0m\u001b[0;34m,\u001b[0m \u001b[0mself\u001b[0m\u001b[0;34m.\u001b[0m\u001b[0m_has_positive_measure\u001b[0m\u001b[0;34m)\u001b[0m\u001b[0;34m,\u001b[0m\u001b[0;34m\u001b[0m\u001b[0m\n\u001b[1;32m    487\u001b[0m             \u001b[0;34m(\u001b[0m\u001b[0;34m'ator'\u001b[0m\u001b[0;34m,\u001b[0m \u001b[0;34m'ate'\u001b[0m\u001b[0;34m,\u001b[0m \u001b[0mself\u001b[0m\u001b[0;34m.\u001b[0m\u001b[0m_has_positive_measure\u001b[0m\u001b[0;34m)\u001b[0m\u001b[0;34m,\u001b[0m\u001b[0;34m\u001b[0m\u001b[0m\n\u001b[0;32m--> 488\u001b[0;31m             \u001b[0;34m(\u001b[0m\u001b[0;34m'alism'\u001b[0m\u001b[0;34m,\u001b[0m \u001b[0;34m'al'\u001b[0m\u001b[0;34m,\u001b[0m \u001b[0mself\u001b[0m\u001b[0;34m.\u001b[0m\u001b[0m_has_positive_measure\u001b[0m\u001b[0;34m)\u001b[0m\u001b[0;34m,\u001b[0m\u001b[0;34m\u001b[0m\u001b[0m\n\u001b[0m\u001b[1;32m    489\u001b[0m             \u001b[0;34m(\u001b[0m\u001b[0;34m'iveness'\u001b[0m\u001b[0;34m,\u001b[0m \u001b[0;34m'ive'\u001b[0m\u001b[0;34m,\u001b[0m \u001b[0mself\u001b[0m\u001b[0;34m.\u001b[0m\u001b[0m_has_positive_measure\u001b[0m\u001b[0;34m)\u001b[0m\u001b[0;34m,\u001b[0m\u001b[0;34m\u001b[0m\u001b[0m\n\u001b[1;32m    490\u001b[0m             \u001b[0;34m(\u001b[0m\u001b[0;34m'fulness'\u001b[0m\u001b[0;34m,\u001b[0m \u001b[0;34m'ful'\u001b[0m\u001b[0;34m,\u001b[0m \u001b[0mself\u001b[0m\u001b[0;34m.\u001b[0m\u001b[0m_has_positive_measure\u001b[0m\u001b[0;34m)\u001b[0m\u001b[0;34m,\u001b[0m\u001b[0;34m\u001b[0m\u001b[0m\n",
      "\u001b[0;31mKeyboardInterrupt\u001b[0m: "
     ]
    }
   ],
   "source": [
    "taggeddoc=get_doc()"
   ]
  },
  {
   "cell_type": "code",
   "execution_count": 10,
   "metadata": {},
   "outputs": [
    {
     "ename": "NameError",
     "evalue": "name 'taggeddoc' is not defined",
     "output_type": "error",
     "traceback": [
      "\u001b[0;31m---------------------------------------------------------------------------\u001b[0m",
      "\u001b[0;31mNameError\u001b[0m                                 Traceback (most recent call last)",
      "\u001b[0;32m<ipython-input-10-4ee0789dc99f>\u001b[0m in \u001b[0;36m<module>\u001b[0;34m()\u001b[0m\n\u001b[0;32m----> 1\u001b[0;31m \u001b[0mtaggeddoc\u001b[0m\u001b[0;34m[\u001b[0m\u001b[0;36m98\u001b[0m\u001b[0;34m]\u001b[0m\u001b[0;34m\u001b[0m\u001b[0m\n\u001b[0m",
      "\u001b[0;31mNameError\u001b[0m: name 'taggeddoc' is not defined"
     ]
    }
   ],
   "source": [
    "taggeddoc[98]"
   ]
  },
  {
   "cell_type": "code",
   "execution_count": 4,
   "metadata": {
    "collapsed": true
   },
   "outputs": [],
   "source": [
    "with open('datawithdoc.txt','r') as infile:\n",
    "    docs=json.load(infile)\n",
    "    "
   ]
  },
  {
   "cell_type": "code",
   "execution_count": 5,
   "metadata": {},
   "outputs": [
    {
     "data": {
      "text/plain": [
       "{'code': '074',\n",
       " 'country_code': 'UKR',\n",
       " 'date8': '000019140403',\n",
       " 'day': '140403',\n",
       " 'doc': \"PEREVALNOYE, Crimea -- The soldiers guarding the entrances to the surrounded Ukrainian military base here just south of the capital, Simferopol, had little in common with their predecessors from past Russian military actions. Lean and fit, few if any seemed to be conscripts. Their uniforms were crisp and neat, and their new helmets were bedecked with tinted safety goggles. They were sober. And there was another indicator of an army undergoing an upgrade: compact encrypted radio units distributed at the small-unit level, including for soldiers on such routine duty as guard shifts beside machine-gun trucks. The radios are a telltale sign of a sweeping modernization effort undertaken five years ago by Vladimir V. Putin that has revitalized Russia's conventional military abilities, frightening some of its former vassal states in Eastern Europe and forcing NATO to re-evaluate its longstanding view of post-Soviet Russia as a nuclear power with limited ground muscle. Across Crimea in the past several weeks, a sleek new vanguard of the Russian military has been on display, with forces whose mobility, equipment and behavior were sharply different from those of the Russian forces seen in the brief war in Georgia in 2008 or throughout the North Caucasus over nearly two decades of conflict with Muslim separatists. Past Russian military actions have often showcased an army suffering from a poor state of discipline and supply, its ranks filled mostly with the conscripts who had not managed to buy deferments or otherwise evade military service. Public drunkenness was common, as were tactical indecisiveness and soldiers who often looked as if they could not run a mile, much less swiftly. Not so in Crimea. After a Kremlin campaign to overhaul the military, including improvements in training and equipment and, notably, large increases in pay, the results could be seen in the field. They were evident not only in the demeanor of the Russian soldiers but also in the speed with which they overwhelmed Crimea with minimal violence. The troops in Crimea may be the elite of the new Russian military. But the Kremlin's investment, analysts said, has revived the military, which has now shown that it can field a competent and even formidable force, and both guard the nation and project power to neighboring states. ''The development of Russian armed forces is going in two big trends, first strengthening of strategic nuclear forces, giving a guarantee that no one country in this world will try to attack Russia,'' said Aleksandr Golts, an independent military analyst in Moscow. ''Second, the development of these rapid deployment forces,'' he said, ''to deal with any kind of local conflict, such as the war against Georgia, or this operation in Ukraine or anywhere.'' ''As a result of these reforms,'' Mr. Golts added, ''Russia now has absolute superiority over any country in the post-Soviet space.'' One Western official who analyzes military forces in the region said the differences from the past were striking. ''It does seem to us that they are much more professional this time around,'' the official said, speaking on the condition of anonymity because he was not authorized to speak publicly. ''It's impressive.'' The transformation of the armed forces has been a personal priority of Mr. Putin, who as prime minister from 2009 to 2012 and more recently in his return to the presidency has overseen billions of dollars in new military expenditures. The military was one of the few areas of the Russian budget to receive big spending increases, along with preparations for the Sochi Olympics, the 2018 World Cup and improvements to the railroad system, which is also a military asset. Since the start of 2012, salaries for most military personnel have roughly tripled, to between $700 and $1,150 a month for privates and sergeants -- a respectable amount in Russian terms. The Kremlin has also expanded housing and education benefits. In a speech to military officers in February shortly after the raises were enacted, Mr. Putin declared, ''I have always believed that military servicemen should be paid, as has always been the case in Russia, by the way, even more than skilled specialists in the sphere of economics or administration or other civilian sectors.'' The spectacular rise in military spending, which is expected to increase to about $100 billion in 2016 from about $80 billion this year, even as the economy shows signs of recession, was one of the main reasons that Russia's respected finance minister, Aleksei L. Kudrin, who was credited with steering Russia safely through the 2008 financial crisis, left the government in 2011. Mr. Putin has been unapologetic. He has repeatedly emphasized that rebuilding the military is crucial to Russia's future. At his direction, a comprehensive, multiagency military strategy was developed for the first time, with ambitious goals that included bringing all units to permanent combat readiness and upgrading weapons systems. As commander in chief, Mr. Putin has also presided over unprecedented training exercises, including what the Kremlin billed as the largest peacetime mobilization ever -- about 160,000 troops, officials said, in Russia's Far East in the summer of 2013 -- and an array of drills in western Russia to prepare for potential threats along the borders with Europe and the Caucasus. ''Our goal is to create modern, mobile and well-equipped armed forces that can respond rapidly and adequately to all potential threats, guarantee peace, and protect our country, our people and our allies, and the future of our state and nation,'' Mr. Putin said in a meeting with military leaders in February 2013. The lightning-quick seizing of strategic installations and the surrounding of military bases in Crimea, including the base here in Perevalnoye, provided a clear show of the new Russian military's capabilities. It was a sharp contrast to the brief war with Georgia in 2008, when Russia overwhelmed its much smaller foe on a tiny patch of ground, but also revealed the sorry state of its own forces -- problems that stretched back to the two military campaigns in Chechnya. (In Georgia, Russian military vehicles were commonly seen broken down on the roads, with cursing soldiers beside them.) ''First of all, there were communications problems, because the communication is the basis of troop management,'' said Mikhail Khodaryonok, editor in chief of Military-Industrial Courier, a weekly newspaper focused on the Russian armed forces. ''Problems with communications were so obvious that sharp measures were taken to improve all types of communications, including the confidential communication,'' Mr. Khodaryonok said. The upgrade was visible down to the smallest unit levels in Crimea. Here at Perevalnoye, many soldiers on guard duty wore new push-to-talk encrypted radios -- a piece of equipment long used by American soldiers but only recently provided to conventional Russian units. The Western official said the wide distribution of the encrypted radios suggested more than procurement. It might also mean that Russian noncommissioned officers were exercising more tactical latitude and decision-making, a deeper type of overhaul that could make Russian units nimbler and more effective. ''That is a rather empowering device for the Russian Army,'' the official said. The radios were one part of a broad element of Mr. Putin's military overhaul: the replacement of equipment carried by individual soldiers. Known as the Ratnik program -- from the Russian word for warrior -- the upgrade includes new helmets, flak jackets with bulletproof plates, ballistic goggles, kneepads, uniforms, and communications and navigation equipment, as well as thermal and night-vision sights for firearms. Apparently modeled after the equipment upgrades visible on Western soldiers in Afghanistan and Iraq for more than a decade, the Ratnik kit has not yet been fully fielded. But many of its signature components were evident in Crimea, including the uniforms, helmets, goggles, flak jackets and kneepads. Out on the roads, Russian forces could also be seen deploying electronic-warfare platforms, including the new Tigr-M and the R-330Zh jamming station, which can block GPS and satellite telephone signals. Like many of the Russian military vehicles visible in the crisis, these vehicles contrasted with those seen in Georgia or the North Caucasus in that they had fresh paint jobs and new tires, and seemed to be in an excellent state of repair. While analysts said that there was now better equipment and training throughout the Russian military, some cautioned against drawing too broad a conclusion based on the forces in Crimea, many of which were part of elite units that were among the first to benefit from the overhaul. ''It is certainly a step up from where they were in 2008, but how far of a step up we don't know yet,'' said Dmitry Gorenburg, a senior analyst with the Center for Naval Analyses, a Virginia-based research group financed by the United States government. ''Is the Russian military now a conventional threat to NATO? I don't think so. I don't think it's that much of an improvement yet. It could be down the road.'' Mr. Gorenburg noted that the Russian troops had faced no opposition, and that there had been no fighting. ''Essentially they were taking over facilities and buildings from troops that had been given no orders or who had been given orders not to resist,'' he said. ''There was no actual combat.'' Mr. Khodaryonok, the editor of Military-Industrial Courier, said it would be a while before the modernization campaign spreads to all the armed forces. Nevertheless, he said, the military had made extraordinary strides. ''Everything is in order,'' he said. ''There is no more such shame as broken tanks and A.P.C.'s on the road and outdated weaponry.'' More important, he said, the military was able to make it all work. ''The biggest achievement, in my opinion, is how the management was organized,'' he said. ''The operation's cover, its quickness and suddenness. There were no data leaks.'' ''The epoch of decay has been fully overcome,'' he said. ''And the armed forces of the country are on the rise.''\",\n",
       " 'geoname': 'Crimea ',\n",
       " 'goldstein': 8.5,\n",
       " 'id': '572e13a5172ab83171ecc133_1',\n",
       " 'latitude': 45.0,\n",
       " 'longitude': 34.0,\n",
       " 'month': '19',\n",
       " 'quad_class': 2,\n",
       " 'root_code': '07',\n",
       " 'source': '',\n",
       " 'src_actor': '',\n",
       " 'src_agent': 'MIL',\n",
       " 'src_other_agent': '',\n",
       " 'target': 'UKRMIL',\n",
       " 'tgt_actor': 'UKR',\n",
       " 'tgt_agent': 'MIL',\n",
       " 'tgt_other_agent': '',\n",
       " 'url': '',\n",
       " 'year': '0000'}"
      ]
     },
     "execution_count": 5,
     "metadata": {},
     "output_type": "execute_result"
    }
   ],
   "source": [
    "docs[0]"
   ]
  },
  {
   "cell_type": "code",
   "execution_count": 75,
   "metadata": {
    "collapsed": true
   },
   "outputs": [],
   "source": [
    "doc_list=[]\n",
    "count=0\n",
    "for doc in docs:\n",
    "    count=count+1;\n",
    "    #element={}\n",
    "    if count<=100:\n",
    "        doc_list.append({\"doc\":doc[\"doc\"],\"id\":doc[\"id\"]})\n",
    "    else:\n",
    "        break\n"
   ]
  },
  {
   "cell_type": "code",
   "execution_count": 71,
   "metadata": {
    "collapsed": true
   },
   "outputs": [],
   "source": [
    "element={}"
   ]
  },
  {
   "cell_type": "code",
   "execution_count": 70,
   "metadata": {},
   "outputs": [
    {
     "data": {
      "text/plain": [
       "{'code': '074',\n",
       " 'country_code': 'UKR',\n",
       " 'date8': '000019140403',\n",
       " 'day': '140403',\n",
       " 'doc': \"PEREVALNOYE, Crimea -- The soldiers guarding the entrances to the surrounded Ukrainian military base here just south of the capital, Simferopol, had little in common with their predecessors from past Russian military actions. Lean and fit, few if any seemed to be conscripts. Their uniforms were crisp and neat, and their new helmets were bedecked with tinted safety goggles. They were sober. And there was another indicator of an army undergoing an upgrade: compact encrypted radio units distributed at the small-unit level, including for soldiers on such routine duty as guard shifts beside machine-gun trucks. The radios are a telltale sign of a sweeping modernization effort undertaken five years ago by Vladimir V. Putin that has revitalized Russia's conventional military abilities, frightening some of its former vassal states in Eastern Europe and forcing NATO to re-evaluate its longstanding view of post-Soviet Russia as a nuclear power with limited ground muscle. Across Crimea in the past several weeks, a sleek new vanguard of the Russian military has been on display, with forces whose mobility, equipment and behavior were sharply different from those of the Russian forces seen in the brief war in Georgia in 2008 or throughout the North Caucasus over nearly two decades of conflict with Muslim separatists. Past Russian military actions have often showcased an army suffering from a poor state of discipline and supply, its ranks filled mostly with the conscripts who had not managed to buy deferments or otherwise evade military service. Public drunkenness was common, as were tactical indecisiveness and soldiers who often looked as if they could not run a mile, much less swiftly. Not so in Crimea. After a Kremlin campaign to overhaul the military, including improvements in training and equipment and, notably, large increases in pay, the results could be seen in the field. They were evident not only in the demeanor of the Russian soldiers but also in the speed with which they overwhelmed Crimea with minimal violence. The troops in Crimea may be the elite of the new Russian military. But the Kremlin's investment, analysts said, has revived the military, which has now shown that it can field a competent and even formidable force, and both guard the nation and project power to neighboring states. ''The development of Russian armed forces is going in two big trends, first strengthening of strategic nuclear forces, giving a guarantee that no one country in this world will try to attack Russia,'' said Aleksandr Golts, an independent military analyst in Moscow. ''Second, the development of these rapid deployment forces,'' he said, ''to deal with any kind of local conflict, such as the war against Georgia, or this operation in Ukraine or anywhere.'' ''As a result of these reforms,'' Mr. Golts added, ''Russia now has absolute superiority over any country in the post-Soviet space.'' One Western official who analyzes military forces in the region said the differences from the past were striking. ''It does seem to us that they are much more professional this time around,'' the official said, speaking on the condition of anonymity because he was not authorized to speak publicly. ''It's impressive.'' The transformation of the armed forces has been a personal priority of Mr. Putin, who as prime minister from 2009 to 2012 and more recently in his return to the presidency has overseen billions of dollars in new military expenditures. The military was one of the few areas of the Russian budget to receive big spending increases, along with preparations for the Sochi Olympics, the 2018 World Cup and improvements to the railroad system, which is also a military asset. Since the start of 2012, salaries for most military personnel have roughly tripled, to between $700 and $1,150 a month for privates and sergeants -- a respectable amount in Russian terms. The Kremlin has also expanded housing and education benefits. In a speech to military officers in February shortly after the raises were enacted, Mr. Putin declared, ''I have always believed that military servicemen should be paid, as has always been the case in Russia, by the way, even more than skilled specialists in the sphere of economics or administration or other civilian sectors.'' The spectacular rise in military spending, which is expected to increase to about $100 billion in 2016 from about $80 billion this year, even as the economy shows signs of recession, was one of the main reasons that Russia's respected finance minister, Aleksei L. Kudrin, who was credited with steering Russia safely through the 2008 financial crisis, left the government in 2011. Mr. Putin has been unapologetic. He has repeatedly emphasized that rebuilding the military is crucial to Russia's future. At his direction, a comprehensive, multiagency military strategy was developed for the first time, with ambitious goals that included bringing all units to permanent combat readiness and upgrading weapons systems. As commander in chief, Mr. Putin has also presided over unprecedented training exercises, including what the Kremlin billed as the largest peacetime mobilization ever -- about 160,000 troops, officials said, in Russia's Far East in the summer of 2013 -- and an array of drills in western Russia to prepare for potential threats along the borders with Europe and the Caucasus. ''Our goal is to create modern, mobile and well-equipped armed forces that can respond rapidly and adequately to all potential threats, guarantee peace, and protect our country, our people and our allies, and the future of our state and nation,'' Mr. Putin said in a meeting with military leaders in February 2013. The lightning-quick seizing of strategic installations and the surrounding of military bases in Crimea, including the base here in Perevalnoye, provided a clear show of the new Russian military's capabilities. It was a sharp contrast to the brief war with Georgia in 2008, when Russia overwhelmed its much smaller foe on a tiny patch of ground, but also revealed the sorry state of its own forces -- problems that stretched back to the two military campaigns in Chechnya. (In Georgia, Russian military vehicles were commonly seen broken down on the roads, with cursing soldiers beside them.) ''First of all, there were communications problems, because the communication is the basis of troop management,'' said Mikhail Khodaryonok, editor in chief of Military-Industrial Courier, a weekly newspaper focused on the Russian armed forces. ''Problems with communications were so obvious that sharp measures were taken to improve all types of communications, including the confidential communication,'' Mr. Khodaryonok said. The upgrade was visible down to the smallest unit levels in Crimea. Here at Perevalnoye, many soldiers on guard duty wore new push-to-talk encrypted radios -- a piece of equipment long used by American soldiers but only recently provided to conventional Russian units. The Western official said the wide distribution of the encrypted radios suggested more than procurement. It might also mean that Russian noncommissioned officers were exercising more tactical latitude and decision-making, a deeper type of overhaul that could make Russian units nimbler and more effective. ''That is a rather empowering device for the Russian Army,'' the official said. The radios were one part of a broad element of Mr. Putin's military overhaul: the replacement of equipment carried by individual soldiers. Known as the Ratnik program -- from the Russian word for warrior -- the upgrade includes new helmets, flak jackets with bulletproof plates, ballistic goggles, kneepads, uniforms, and communications and navigation equipment, as well as thermal and night-vision sights for firearms. Apparently modeled after the equipment upgrades visible on Western soldiers in Afghanistan and Iraq for more than a decade, the Ratnik kit has not yet been fully fielded. But many of its signature components were evident in Crimea, including the uniforms, helmets, goggles, flak jackets and kneepads. Out on the roads, Russian forces could also be seen deploying electronic-warfare platforms, including the new Tigr-M and the R-330Zh jamming station, which can block GPS and satellite telephone signals. Like many of the Russian military vehicles visible in the crisis, these vehicles contrasted with those seen in Georgia or the North Caucasus in that they had fresh paint jobs and new tires, and seemed to be in an excellent state of repair. While analysts said that there was now better equipment and training throughout the Russian military, some cautioned against drawing too broad a conclusion based on the forces in Crimea, many of which were part of elite units that were among the first to benefit from the overhaul. ''It is certainly a step up from where they were in 2008, but how far of a step up we don't know yet,'' said Dmitry Gorenburg, a senior analyst with the Center for Naval Analyses, a Virginia-based research group financed by the United States government. ''Is the Russian military now a conventional threat to NATO? I don't think so. I don't think it's that much of an improvement yet. It could be down the road.'' Mr. Gorenburg noted that the Russian troops had faced no opposition, and that there had been no fighting. ''Essentially they were taking over facilities and buildings from troops that had been given no orders or who had been given orders not to resist,'' he said. ''There was no actual combat.'' Mr. Khodaryonok, the editor of Military-Industrial Courier, said it would be a while before the modernization campaign spreads to all the armed forces. Nevertheless, he said, the military had made extraordinary strides. ''Everything is in order,'' he said. ''There is no more such shame as broken tanks and A.P.C.'s on the road and outdated weaponry.'' More important, he said, the military was able to make it all work. ''The biggest achievement, in my opinion, is how the management was organized,'' he said. ''The operation's cover, its quickness and suddenness. There were no data leaks.'' ''The epoch of decay has been fully overcome,'' he said. ''And the armed forces of the country are on the rise.''\",\n",
       " 'geoname': 'Crimea ',\n",
       " 'goldstein': 8.5,\n",
       " 'id': '572e13a5172ab83171ecc133_1',\n",
       " 'latitude': 45.0,\n",
       " 'longitude': 34.0,\n",
       " 'month': '19',\n",
       " 'quad_class': 2,\n",
       " 'root_code': '07',\n",
       " 'source': '',\n",
       " 'src_actor': '',\n",
       " 'src_agent': 'MIL',\n",
       " 'src_other_agent': '',\n",
       " 'target': 'UKRMIL',\n",
       " 'tgt_actor': 'UKR',\n",
       " 'tgt_agent': 'MIL',\n",
       " 'tgt_other_agent': '',\n",
       " 'url': '',\n",
       " 'year': '0000'}"
      ]
     },
     "execution_count": 70,
     "metadata": {},
     "output_type": "execute_result"
    }
   ],
   "source": [
    "docs[0]"
   ]
  },
  {
   "cell_type": "code",
   "execution_count": 6,
   "metadata": {
    "collapsed": true
   },
   "outputs": [],
   "source": [
    "doc_list=[]\n",
    "for doc in docs:\n",
    "    doc_list.append({\"doc\":doc[\"doc\"],\"id\":doc[\"id\"]})"
   ]
  },
  {
   "cell_type": "code",
   "execution_count": 7,
   "metadata": {},
   "outputs": [
    {
     "data": {
      "text/plain": [
       "546022"
      ]
     },
     "execution_count": 7,
     "metadata": {},
     "output_type": "execute_result"
    }
   ],
   "source": [
    "len(doc_list)"
   ]
  },
  {
   "cell_type": "code",
   "execution_count": 23,
   "metadata": {},
   "outputs": [
    {
     "name": "stdout",
     "output_type": "stream",
     "text": [
      "<built-in method count of list object at 0x11045c6c8>\n"
     ]
    }
   ],
   "source": [
    "#print(documents.count)"
   ]
  },
  {
   "cell_type": "code",
   "execution_count": 15,
   "metadata": {},
   "outputs": [
    {
     "data": {
      "text/plain": [
       "100"
      ]
     },
     "execution_count": 15,
     "metadata": {},
     "output_type": "execute_result"
    }
   ],
   "source": [
    "#TaggedDocument.words\n",
    "len(documents)"
   ]
  },
  {
   "cell_type": "code",
   "execution_count": null,
   "metadata": {},
   "outputs": [
    {
     "name": "stdout",
     "output_type": "stream",
     "text": [
      "{'doc': \"PEREVALNOYE, Crimea -- The soldiers guarding the entrances to the surrounded Ukrainian military base here just south of the capital, Simferopol, had little in common with their predecessors from past Russian military actions. Lean and fit, few if any seemed to be conscripts. Their uniforms were crisp and neat, and their new helmets were bedecked with tinted safety goggles. They were sober. And there was another indicator of an army undergoing an upgrade: compact encrypted radio units distributed at the small-unit level, including for soldiers on such routine duty as guard shifts beside machine-gun trucks. The radios are a telltale sign of a sweeping modernization effort undertaken five years ago by Vladimir V. Putin that has revitalized Russia's conventional military abilities, frightening some of its former vassal states in Eastern Europe and forcing NATO to re-evaluate its longstanding view of post-Soviet Russia as a nuclear power with limited ground muscle. Across Crimea in the past several weeks, a sleek new vanguard of the Russian military has been on display, with forces whose mobility, equipment and behavior were sharply different from those of the Russian forces seen in the brief war in Georgia in 2008 or throughout the North Caucasus over nearly two decades of conflict with Muslim separatists. Past Russian military actions have often showcased an army suffering from a poor state of discipline and supply, its ranks filled mostly with the conscripts who had not managed to buy deferments or otherwise evade military service. Public drunkenness was common, as were tactical indecisiveness and soldiers who often looked as if they could not run a mile, much less swiftly. Not so in Crimea. After a Kremlin campaign to overhaul the military, including improvements in training and equipment and, notably, large increases in pay, the results could be seen in the field. They were evident not only in the demeanor of the Russian soldiers but also in the speed with which they overwhelmed Crimea with minimal violence. The troops in Crimea may be the elite of the new Russian military. But the Kremlin's investment, analysts said, has revived the military, which has now shown that it can field a competent and even formidable force, and both guard the nation and project power to neighboring states. ''The development of Russian armed forces is going in two big trends, first strengthening of strategic nuclear forces, giving a guarantee that no one country in this world will try to attack Russia,'' said Aleksandr Golts, an independent military analyst in Moscow. ''Second, the development of these rapid deployment forces,'' he said, ''to deal with any kind of local conflict, such as the war against Georgia, or this operation in Ukraine or anywhere.'' ''As a result of these reforms,'' Mr. Golts added, ''Russia now has absolute superiority over any country in the post-Soviet space.'' One Western official who analyzes military forces in the region said the differences from the past were striking. ''It does seem to us that they are much more professional this time around,'' the official said, speaking on the condition of anonymity because he was not authorized to speak publicly. ''It's impressive.'' The transformation of the armed forces has been a personal priority of Mr. Putin, who as prime minister from 2009 to 2012 and more recently in his return to the presidency has overseen billions of dollars in new military expenditures. The military was one of the few areas of the Russian budget to receive big spending increases, along with preparations for the Sochi Olympics, the 2018 World Cup and improvements to the railroad system, which is also a military asset. Since the start of 2012, salaries for most military personnel have roughly tripled, to between $700 and $1,150 a month for privates and sergeants -- a respectable amount in Russian terms. The Kremlin has also expanded housing and education benefits. In a speech to military officers in February shortly after the raises were enacted, Mr. Putin declared, ''I have always believed that military servicemen should be paid, as has always been the case in Russia, by the way, even more than skilled specialists in the sphere of economics or administration or other civilian sectors.'' The spectacular rise in military spending, which is expected to increase to about $100 billion in 2016 from about $80 billion this year, even as the economy shows signs of recession, was one of the main reasons that Russia's respected finance minister, Aleksei L. Kudrin, who was credited with steering Russia safely through the 2008 financial crisis, left the government in 2011. Mr. Putin has been unapologetic. He has repeatedly emphasized that rebuilding the military is crucial to Russia's future. At his direction, a comprehensive, multiagency military strategy was developed for the first time, with ambitious goals that included bringing all units to permanent combat readiness and upgrading weapons systems. As commander in chief, Mr. Putin has also presided over unprecedented training exercises, including what the Kremlin billed as the largest peacetime mobilization ever -- about 160,000 troops, officials said, in Russia's Far East in the summer of 2013 -- and an array of drills in western Russia to prepare for potential threats along the borders with Europe and the Caucasus. ''Our goal is to create modern, mobile and well-equipped armed forces that can respond rapidly and adequately to all potential threats, guarantee peace, and protect our country, our people and our allies, and the future of our state and nation,'' Mr. Putin said in a meeting with military leaders in February 2013. The lightning-quick seizing of strategic installations and the surrounding of military bases in Crimea, including the base here in Perevalnoye, provided a clear show of the new Russian military's capabilities. It was a sharp contrast to the brief war with Georgia in 2008, when Russia overwhelmed its much smaller foe on a tiny patch of ground, but also revealed the sorry state of its own forces -- problems that stretched back to the two military campaigns in Chechnya. (In Georgia, Russian military vehicles were commonly seen broken down on the roads, with cursing soldiers beside them.) ''First of all, there were communications problems, because the communication is the basis of troop management,'' said Mikhail Khodaryonok, editor in chief of Military-Industrial Courier, a weekly newspaper focused on the Russian armed forces. ''Problems with communications were so obvious that sharp measures were taken to improve all types of communications, including the confidential communication,'' Mr. Khodaryonok said. The upgrade was visible down to the smallest unit levels in Crimea. Here at Perevalnoye, many soldiers on guard duty wore new push-to-talk encrypted radios -- a piece of equipment long used by American soldiers but only recently provided to conventional Russian units. The Western official said the wide distribution of the encrypted radios suggested more than procurement. It might also mean that Russian noncommissioned officers were exercising more tactical latitude and decision-making, a deeper type of overhaul that could make Russian units nimbler and more effective. ''That is a rather empowering device for the Russian Army,'' the official said. The radios were one part of a broad element of Mr. Putin's military overhaul: the replacement of equipment carried by individual soldiers. Known as the Ratnik program -- from the Russian word for warrior -- the upgrade includes new helmets, flak jackets with bulletproof plates, ballistic goggles, kneepads, uniforms, and communications and navigation equipment, as well as thermal and night-vision sights for firearms. Apparently modeled after the equipment upgrades visible on Western soldiers in Afghanistan and Iraq for more than a decade, the Ratnik kit has not yet been fully fielded. But many of its signature components were evident in Crimea, including the uniforms, helmets, goggles, flak jackets and kneepads. Out on the roads, Russian forces could also be seen deploying electronic-warfare platforms, including the new Tigr-M and the R-330Zh jamming station, which can block GPS and satellite telephone signals. Like many of the Russian military vehicles visible in the crisis, these vehicles contrasted with those seen in Georgia or the North Caucasus in that they had fresh paint jobs and new tires, and seemed to be in an excellent state of repair. While analysts said that there was now better equipment and training throughout the Russian military, some cautioned against drawing too broad a conclusion based on the forces in Crimea, many of which were part of elite units that were among the first to benefit from the overhaul. ''It is certainly a step up from where they were in 2008, but how far of a step up we don't know yet,'' said Dmitry Gorenburg, a senior analyst with the Center for Naval Analyses, a Virginia-based research group financed by the United States government. ''Is the Russian military now a conventional threat to NATO? I don't think so. I don't think it's that much of an improvement yet. It could be down the road.'' Mr. Gorenburg noted that the Russian troops had faced no opposition, and that there had been no fighting. ''Essentially they were taking over facilities and buildings from troops that had been given no orders or who had been given orders not to resist,'' he said. ''There was no actual combat.'' Mr. Khodaryonok, the editor of Military-Industrial Courier, said it would be a while before the modernization campaign spreads to all the armed forces. Nevertheless, he said, the military had made extraordinary strides. ''Everything is in order,'' he said. ''There is no more such shame as broken tanks and A.P.C.'s on the road and outdated weaponry.'' More important, he said, the military was able to make it all work. ''The biggest achievement, in my opinion, is how the management was organized,'' he said. ''The operation's cover, its quickness and suddenness. There were no data leaks.'' ''The epoch of decay has been fully overcome,'' he said. ''And the armed forces of the country are on the rise.''\", 'id': '572e13a5172ab83171ecc133_1'}\n",
      "{'doc': 'The British telecommunications company Cable and Wireless sold its stake in the Hong Kong phone company PCCW as part of a strategy to exit unprofitable markets. Cable and Wireless sold the stake, 652 million shares that represent about 14 percent of the company, for about $400 million. The company held the shares on its books at $:235 million ($390 million) as of March 31. On Wednesday, Cable and Wireless said it would exit the United States, and concentrate on business in Britain.   Heather Timmons (NYT)', 'id': '572e0b96172ab83171eb8cfe_4'}\n",
      "{'doc': \"The federal government has drawn up plans to send an additional $2.5 billion in aid to New York and New Jersey to help pay for the recovery from Hurricane Sandy, government officials said on Friday. The money, almost $1 billion of which would go to New York City, would constitute the third installment of aid from the $50 billion that Congress approved in early 2013. The rest of New York State would receive about $600 million and New Jersey would get about $880 million, the officials said. Nearly two-thirds of the latest allocation to the city is intended for the Build It Back housing program. Mayor Bill de Blasio of New York thanked Senator Charles E. Schumer, a fellow Democrat, for helping the city obtain the aid, which he said ''ensures that we'll be able to provide the support that every homeowner in the Build It Back pipeline needs and deserves.'' The latest allocations would bring the total awarded to New York and New Jersey to nearly $13 billion. New York State's total would rise to $4.4 billion, while New York City and New Jersey have been promised about $4.2 billion each. New Jersey's governor, Chris Christie, has criticized the federal government for providing nearly twice as much of the recovery aid to New York State, including the city, as to New Jersey. A spokesman for Governor Christie declined to comment on Friday. The three governments have yet to spend all of the first allocations they received and are still awaiting the money awarded in the second round. Their plans for how they would spend the second installments still need the approval of the federal Department of Housing and Urban Development. Gov. Andrew M. Cuomo of New York called the money the ''third and final tranche'' of the federal disaster relief. He said the state would spend most of it on infrastructure projects intended to help communities on Long Island and elsewhere protect themselves against future storms. Through its New York Rising program, the state spent much of the initial money it received on providing housing assistance and compensating homeowners for the costs of repairing and, in some cases, raising their houses off the ground. ''New Yorkers have suffered a tremendous burden in recent years with 100-year storms coming every year,'' Mr. Cuomo said in a prepared statement. Those and other ''weather emergencies,'' he said, have forced residents of the state ''to be innovative, resourceful and strategic in our recovery efforts.''\", 'id': '572e1600172ab83171ed1c01_3'}\n",
      "{'doc': \"The federal government has drawn up plans to send an additional $2.5 billion in aid to New York and New Jersey to help pay for the recovery from Hurricane Sandy, government officials said on Friday. The money, almost $1 billion of which would go to New York City, would constitute the third installment of aid from the $50 billion that Congress approved in early 2013. The rest of New York State would receive about $600 million and New Jersey would get about $880 million, the officials said. Nearly two-thirds of the latest allocation to the city is intended for the Build It Back housing program. Mayor Bill de Blasio of New York thanked Senator Charles E. Schumer, a fellow Democrat, for helping the city obtain the aid, which he said ''ensures that we'll be able to provide the support that every homeowner in the Build It Back pipeline needs and deserves.'' The latest allocations would bring the total awarded to New York and New Jersey to nearly $13 billion. New York State's total would rise to $4.4 billion, while New York City and New Jersey have been promised about $4.2 billion each. New Jersey's governor, Chris Christie, has criticized the federal government for providing nearly twice as much of the recovery aid to New York State, including the city, as to New Jersey. A spokesman for Governor Christie declined to comment on Friday. The three governments have yet to spend all of the first allocations they received and are still awaiting the money awarded in the second round. Their plans for how they would spend the second installments still need the approval of the federal Department of Housing and Urban Development. Gov. Andrew M. Cuomo of New York called the money the ''third and final tranche'' of the federal disaster relief. He said the state would spend most of it on infrastructure projects intended to help communities on Long Island and elsewhere protect themselves against future storms. Through its New York Rising program, the state spent much of the initial money it received on providing housing assistance and compensating homeowners for the costs of repairing and, in some cases, raising their houses off the ground. ''New Yorkers have suffered a tremendous burden in recent years with 100-year storms coming every year,'' Mr. Cuomo said in a prepared statement. Those and other ''weather emergencies,'' he said, have forced residents of the state ''to be innovative, resourceful and strategic in our recovery efforts.''\", 'id': '572e1600172ab83171ed1c01_7'}\n",
      "{'doc': \"The federal government has drawn up plans to send an additional $2.5 billion in aid to New York and New Jersey to help pay for the recovery from Hurricane Sandy, government officials said on Friday. The money, almost $1 billion of which would go to New York City, would constitute the third installment of aid from the $50 billion that Congress approved in early 2013. The rest of New York State would receive about $600 million and New Jersey would get about $880 million, the officials said. Nearly two-thirds of the latest allocation to the city is intended for the Build It Back housing program. Mayor Bill de Blasio of New York thanked Senator Charles E. Schumer, a fellow Democrat, for helping the city obtain the aid, which he said ''ensures that we'll be able to provide the support that every homeowner in the Build It Back pipeline needs and deserves.'' The latest allocations would bring the total awarded to New York and New Jersey to nearly $13 billion. New York State's total would rise to $4.4 billion, while New York City and New Jersey have been promised about $4.2 billion each. New Jersey's governor, Chris Christie, has criticized the federal government for providing nearly twice as much of the recovery aid to New York State, including the city, as to New Jersey. A spokesman for Governor Christie declined to comment on Friday. The three governments have yet to spend all of the first allocations they received and are still awaiting the money awarded in the second round. Their plans for how they would spend the second installments still need the approval of the federal Department of Housing and Urban Development. Gov. Andrew M. Cuomo of New York called the money the ''third and final tranche'' of the federal disaster relief. He said the state would spend most of it on infrastructure projects intended to help communities on Long Island and elsewhere protect themselves against future storms. Through its New York Rising program, the state spent much of the initial money it received on providing housing assistance and compensating homeowners for the costs of repairing and, in some cases, raising their houses off the ground. ''New Yorkers have suffered a tremendous burden in recent years with 100-year storms coming every year,'' Mr. Cuomo said in a prepared statement. Those and other ''weather emergencies,'' he said, have forced residents of the state ''to be innovative, resourceful and strategic in our recovery efforts.''\", 'id': '572e1600172ab83171ed1c01_5'}\n"
     ]
    }
   ],
   "source": [
    "%%time\n",
    "documents=get_doc()\n",
    "# build the model\n",
    "model = gensim.models.Doc2Vec(documents, dm = 0, size=546022,alpha=0.025, min_alpha=0.025, min_count=0,workers=8)\n",
    " \n",
    "# start training\n",
    "# for epoch in range(4):\n",
    "#     if epoch % 2 == 0:\n",
    "#         print ('Now training epoch %s'%epoch)\n",
    "    #when training it is missing the following parameters.\n",
    "model.train(documents,total_examples=546022,epochs=1)\n",
    "model.alpha -= 0.002  # decrease the learning rate\n",
    "model.min_alpha = model.alpha  # fix the learning rate, no decay\n",
    "\n",
    "#shows the similar words\n",
    "#print (model.most_similar('suppli'))\n",
    " \n",
    "# shows the learnt embedding\n",
    "#print (model['suppli'])\n",
    " \n",
    "# shows the similar docs with id = 2\n",
    "#print (model.docvecs.most_similar(str(2)))"
   ]
  },
  {
   "cell_type": "code",
   "execution_count": 78,
   "metadata": {},
   "outputs": [
    {
     "data": {
      "text/plain": [
       "[('572e0f62172ab83170f214db_6', 0.8948841094970703),\n",
       " ('572e11c9172ab83170f268dd_6', 0.8936241865158081),\n",
       " ('572e0bd4172ab83177f1b155_3', 0.8935940265655518),\n",
       " ('572e14b5172ab83170f2d20b_1', 0.8891150951385498),\n",
       " ('572e0d8c172ab83177f1ed9a_2', 0.8857921361923218),\n",
       " ('572e13b1172ab83170f2ac98_7', 0.8838874697685242),\n",
       " ('572e12eb172ab83170f2913b_1', 0.8812426328659058),\n",
       " ('572e12eb172ab83170f2913b_5', 0.880000650882721),\n",
       " ('572e1079172ab83170f239a5_4', 0.8756458759307861),\n",
       " ('572e17da172ab83177f3663d_2', 0.8755161762237549)]"
      ]
     },
     "execution_count": 78,
     "metadata": {},
     "output_type": "execute_result"
    }
   ],
   "source": [
    "model.docvecs.most_similar('572e13a5172ab83171ecc133_1')"
   ]
  },
  {
   "cell_type": "code",
   "execution_count": 1,
   "metadata": {},
   "outputs": [
    {
     "ename": "NameError",
     "evalue": "name 'model' is not defined",
     "output_type": "error",
     "traceback": [
      "\u001b[0;31m---------------------------------------------------------------------------\u001b[0m",
      "\u001b[0;31mNameError\u001b[0m                                 Traceback (most recent call last)",
      "\u001b[0;32m<ipython-input-1-b9c6376b41ee>\u001b[0m in \u001b[0;36m<module>\u001b[0;34m()\u001b[0m\n\u001b[0;32m----> 1\u001b[0;31m \u001b[0mlen\u001b[0m\u001b[0;34m(\u001b[0m\u001b[0mmodel\u001b[0m\u001b[0;34m.\u001b[0m\u001b[0mdocvecs\u001b[0m\u001b[0;34m)\u001b[0m\u001b[0;34m\u001b[0m\u001b[0m\n\u001b[0m",
      "\u001b[0;31mNameError\u001b[0m: name 'model' is not defined"
     ]
    }
   ],
   "source": [
    "len(model.docvecs)"
   ]
  },
  {
   "cell_type": "code",
   "execution_count": 57,
   "metadata": {},
   "outputs": [
    {
     "data": {
      "text/plain": [
       "'Montgomery County school officials have found no single cause to explain the district\\'s steep failure rates on high school math exams, but they are proposing a series of steps designed to help boost student performance and close the math achievement gap. Superintendent Joshua P. Starr offered a plan last week following concerns that started more than a year ago when exam failure rates of 50 percent to 60 percent in some courses alarmed parents in the high-performing school system. Starr\\'s plan includes measures to beef up math expertise at the elementary school level, reconsider policies about how students progress through math, add new diagnostic tools to help support struggling students, increase professional development, and start an online library of teacher and student resources. The recommendations draw on a lengthy effort by a district-created math work group to examine the issues behind exam failures and what can be done to turn things around. The group\\'s report was issued as Starr released his recommendations. \"The final report indicates that, as we know, there is no single factor responsible for high rates of failure on math exams and therefore there will not be one single strategy to improve student performance,\" Starr told school board members as he described his approach. Montgomery\\'s widespread exam failure came to light last year  when a leader of the Rockville Parent Teacher Student Association circulated figures showing that 62 percent of high school geometry students had flunked their final, as had 57 percent of those in Algebra 2. In all, more than half of 30,000 students taking seven math courses failed countywide exams.  District data showed that the problem had gone on quietly for years. But while many students failed their exams, most still passed their math courses. In its report, the work group did not find problems with alignment between math exams and curriculum, as some had suspected, and the group said that the level of rigor on the exams was for the most part appropriate. But the work group said there was a pattern of low marking-period grades among a majority of those who failed the exam: Between 80 percent and 90 percent of students who receive a D or an E in either marking period fail the semester-end final. Black, Latino and special education students have been disproportionately affected by the exam failures, Starr said in a memo to the school board, \"thus heightening the urgency to address this achievement gap.\" The work group made several recommendations, including compiling best practices to help students study throughout the semester and prepare for the exam, expanding professional development and clarifying the role of exams, especially amid changes in curriculum and accountability.  Surveys done as part of the effort showed that nearly 62 percent of high school students  who participated said more review time with the teacher would help math performance. Asked about the cause of the low grades, more than a third said they didn\\'t think they had to study much. About the same percentage said they needed more help during the semester. Nearly half of teachers surveyed cited students studying as a problem, saying students choose not to adequately prepare for exams or don\\'t know how to study for a cumulative semester exam. Many teachers have pointed out that     students consult a grading chart as they decide how much they should study for exams. Exams in Montgomery are worth 25 percent of a course grade, and the chart shows, for example, that a student who earned C\\'s in both marking periods of a semester could fail the exam and still earn a C in the class. The group recommended a review of the impact of the chart and grading practices on student motivation. As the math work group met during the past year, the district\\'s 25 high schools created action plans to zero in on struggling students. But exam grades released after first-semester countywide finals did not show immediate progress. Christopher Garran, associate superintendent for high schools, said the action plans would be useful in implementing Starr\\'s strategy. Garran noted successes such as more collaboration among math teachers, special education instructors and teachers of English for Speakers of Other Languages. Starr recommended starting math success early by increasing the number of elementary school math coaches who work to help students struggling with the subject. This could happen over the next several budget cycles, he said. He suggested reviewing policies that guide how students progress through math. Middle school students who earn a D or fail math courses are often moved on to the next course despite a lack of proficiency, Starr said. \"We know that kids who have not done well in middle school likely won\\'t do well in high school, and we\\'ve got to break that cycle,\" Starr told the board last week. In another change, Starr recommended supporting struggling students through new products and models of giving teachers \"real-time information\" about strengths, weaknesses and progress. Professional development for teachers intended to help students struggling in math was another focus. Starr said the district pulled back on professional development amid economy-driven budget strains. \"We need to reinvest,\" he said. Merry Eisner-Heidorn, a member of the math work group that issued the report and now a school board candidate, said Starr\\'s recommendations appear to make sense. But she also said they lack detail about measuring success. \"Without established metrics about how we\\'re going to judge our investments, I\\'m concerned we\\'re going to continue to invest and not get the results we need,\" she said. donna.stgeorge@washpost.com'"
      ]
     },
     "execution_count": 57,
     "metadata": {},
     "output_type": "execute_result"
    }
   ],
   "source": [
    "#99 and #32 are similar which looks correct\n",
    "doc_list[99]"
   ]
  },
  {
   "cell_type": "code",
   "execution_count": 56,
   "metadata": {},
   "outputs": [
    {
     "data": {
      "text/plain": [
       "'Later high school start times under considerationFairfax County high schools could start 30 minutes to almost two hours later under proposals to give teenagers more sleep. After deliberating over proposals presented April 23 by a sleep research team, the School Board decided to bring four scenarios to the community for discussion during the next two months. Last April, the school system contracted with the research team to develop plans to shift high school start times to 8 a.m. or later, as opposed to the current 7:20 a.m. morning bell. Bus drivers pick up some high school students as early as 5:45 a.m. to make it to school on time. But students will not benefit from the extra shut-eye before the 2015-16 school year. Due to the tight budget and concerns about rushing planning, the School Board decided not to make changes for this September. Town-hall-style meetings will be hosted in the eight school clusters across the county to solicit input from the public. The research team then will present a final recommendation and report in July. The School Board could vote on the issue in September. Uneven enrollment and boundaries to be addressedThe number of portable classrooms  in Fairfax County - more than 900  - belies the fact that the school district has more seats available than students. In the county, 40 schools are at least 5 percent over capacity while other schools have classroom space to spare. More than 60 schools are at least 10 percent under-enrolled. School facilities staff members proposed boundary adjustments to the School Board on April 23 to address the discrepancy. The recommendations are preliminary and represent an effort to get ahead of the thorny issue of boundary changes, said Kevin Sneed, the school system\\'s director of design and construction services. \"For us to just throw boundary suggestions out there is difficult, but we also know there are schools where we have problems,\" Sneed told the board. \"We need to acknowledge that so we can start planning for it.\" Temporary closures on Fairfax County Parkway TrailClosures along the Fairfax County Parkway Trail began in late April as the Virginia Department of Transportation started a $354,000 project to repair the aging asphalt surface. Crews will patch asphalt, seal cracks and install and repair ramps between Leesburg Pike (Route 7) and Lee Highway (Route 29). Trail segments will be temporarily closed from 8 a.m. to 4 p.m. weekdays. A closure schedule and other information is available on VDOT\\'s Web site, www.virginiadot.org. Click on \"Projects and Studies,\" follow the link for the Northern Virginia region and look for the project in the \"Under Construction\" heading.'"
      ]
     },
     "execution_count": 56,
     "metadata": {},
     "output_type": "execute_result"
    }
   ],
   "source": [
    "doc_list[32]"
   ]
  },
  {
   "cell_type": "code",
   "execution_count": 2,
   "metadata": {},
   "outputs": [
    {
     "ename": "NameError",
     "evalue": "name 'model' is not defined",
     "output_type": "error",
     "traceback": [
      "\u001b[0;31m---------------------------------------------------------------------------\u001b[0m",
      "\u001b[0;31mNameError\u001b[0m                                 Traceback (most recent call last)",
      "\u001b[0;32m<ipython-input-2-b9c6376b41ee>\u001b[0m in \u001b[0;36m<module>\u001b[0;34m()\u001b[0m\n\u001b[0;32m----> 1\u001b[0;31m \u001b[0mlen\u001b[0m\u001b[0;34m(\u001b[0m\u001b[0mmodel\u001b[0m\u001b[0;34m.\u001b[0m\u001b[0mdocvecs\u001b[0m\u001b[0;34m)\u001b[0m\u001b[0;34m\u001b[0m\u001b[0m\n\u001b[0m",
      "\u001b[0;31mNameError\u001b[0m: name 'model' is not defined"
     ]
    }
   ],
   "source": [
    "len(model.docvecs)"
   ]
  },
  {
   "cell_type": "code",
   "execution_count": 59,
   "metadata": {},
   "outputs": [
    {
     "data": {
      "text/plain": [
       "'The White House estimated  Monday that Hurricane Irene will cost federal taxpayers $1.5 billion in disaster relief, further ballooning a government account that was already the focus of fresh partisan friction between President Obama and Congress. The preliminary estimate, released by White House budget director Jacob J. Lew, is on top of $5.2 billion needed for other recent disasters, including tornadoes that leveled much of Joplin, Mo. Lew said the $1.5 billion should last through next year. The Obama administration has said that last month\\'s debt-ceiling deal with Congress allows the government to pay for disaster spending by borrowing, which increases federal deficits. That is a longtime practice for financing emergencies. The House\\'s No. 2 Republican, Majority Leader Eric Cantor (Va.), has said disaster spending should be offset by cuts in other parts of the budget. In a blog post announcing the initial estimate, Lew said the administration will work with Congress to finance the disaster spending, but he showed no sign that the administration will back down. \"We are one country. A disaster in one corner is felt by Americans all across our land. That is why when it comes to taking care of our neighbors in need, we will not let politics get in the way and will do what is right to help them recover and rebuild,\" Lew wrote. The cost estimate comes as Congress is returning from its summer recess. A Senate Appropriations Committee subcommittee, headed by Democrats, is scheduled to meet Tuesday to consider a spending bill that includes disaster aid. The Federal Emergency Management Agency has less than $800 million in its coffers to pay for help needed before Oct. 1, when the government\\'s new budget year will begin. Because the money is so short, some rebuilding projects have been delayed to provide Irene\\'s victims with essentials such as food, water and housing. Irene raked the eastern United States from the Carolinas to Maine beginning on Aug. 28, causing more than 40 deaths, destroying homes, washing out roads, pounding beachfront communities, and flooding towns in Vermont and Upstate New York. Damage is expected to total in the billions, but federal aid is not for expenses covered by private insurance. - Associated Press'"
      ]
     },
     "execution_count": 59,
     "metadata": {},
     "output_type": "execute_result"
    }
   ],
   "source": [
    "doc_list[10]"
   ]
  },
  {
   "cell_type": "code",
   "execution_count": 60,
   "metadata": {},
   "outputs": [
    {
     "data": {
      "text/plain": [
       "'The White House estimated  Monday that Hurricane Irene will cost federal taxpayers $1.5 billion in disaster relief, further ballooning a government account that was already the focus of fresh partisan friction between President Obama and Congress. The preliminary estimate, released by White House budget director Jacob J. Lew, is on top of $5.2 billion needed for other recent disasters, including tornadoes that leveled much of Joplin, Mo. Lew said the $1.5 billion should last through next year. The Obama administration has said that last month\\'s debt-ceiling deal with Congress allows the government to pay for disaster spending by borrowing, which increases federal deficits. That is a longtime practice for financing emergencies. The House\\'s No. 2 Republican, Majority Leader Eric Cantor (Va.), has said disaster spending should be offset by cuts in other parts of the budget. In a blog post announcing the initial estimate, Lew said the administration will work with Congress to finance the disaster spending, but he showed no sign that the administration will back down. \"We are one country. A disaster in one corner is felt by Americans all across our land. That is why when it comes to taking care of our neighbors in need, we will not let politics get in the way and will do what is right to help them recover and rebuild,\" Lew wrote. The cost estimate comes as Congress is returning from its summer recess. A Senate Appropriations Committee subcommittee, headed by Democrats, is scheduled to meet Tuesday to consider a spending bill that includes disaster aid. The Federal Emergency Management Agency has less than $800 million in its coffers to pay for help needed before Oct. 1, when the government\\'s new budget year will begin. Because the money is so short, some rebuilding projects have been delayed to provide Irene\\'s victims with essentials such as food, water and housing. Irene raked the eastern United States from the Carolinas to Maine beginning on Aug. 28, causing more than 40 deaths, destroying homes, washing out roads, pounding beachfront communities, and flooding towns in Vermont and Upstate New York. Damage is expected to total in the billions, but federal aid is not for expenses covered by private insurance. - Associated Press'"
      ]
     },
     "execution_count": 60,
     "metadata": {},
     "output_type": "execute_result"
    }
   ],
   "source": [
    "doc_list[20]"
   ]
  },
  {
   "cell_type": "code",
   "execution_count": 61,
   "metadata": {},
   "outputs": [
    {
     "data": {
      "text/plain": [
       "\"The federal government has drawn up plans to send an additional $2.5 billion in aid to New York and New Jersey to help pay for the recovery from Hurricane Sandy, government officials said on Friday. The money, almost $1 billion of which would go to New York City, would constitute the third installment of aid from the $50 billion that Congress approved in early 2013. The rest of New York State would receive about $600 million and New Jersey would get about $880 million, the officials said. Nearly two-thirds of the latest allocation to the city is intended for the Build It Back housing program. Mayor Bill de Blasio of New York thanked Senator Charles E. Schumer, a fellow Democrat, for helping the city obtain the aid, which he said ''ensures that we'll be able to provide the support that every homeowner in the Build It Back pipeline needs and deserves.'' The latest allocations would bring the total awarded to New York and New Jersey to nearly $13 billion. New York State's total would rise to $4.4 billion, while New York City and New Jersey have been promised about $4.2 billion each. New Jersey's governor, Chris Christie, has criticized the federal government for providing nearly twice as much of the recovery aid to New York State, including the city, as to New Jersey. A spokesman for Governor Christie declined to comment on Friday. The three governments have yet to spend all of the first allocations they received and are still awaiting the money awarded in the second round. Their plans for how they would spend the second installments still need the approval of the federal Department of Housing and Urban Development. Gov. Andrew M. Cuomo of New York called the money the ''third and final tranche'' of the federal disaster relief. He said the state would spend most of it on infrastructure projects intended to help communities on Long Island and elsewhere protect themselves against future storms. Through its New York Rising program, the state spent much of the initial money it received on providing housing assistance and compensating homeowners for the costs of repairing and, in some cases, raising their houses off the ground. ''New Yorkers have suffered a tremendous burden in recent years with 100-year storms coming every year,'' Mr. Cuomo said in a prepared statement. Those and other ''weather emergencies,'' he said, have forced residents of the state ''to be innovative, resourceful and strategic in our recovery efforts.''\""
      ]
     },
     "execution_count": 61,
     "metadata": {},
     "output_type": "execute_result"
    }
   ],
   "source": [
    "doc_list[4]"
   ]
  },
  {
   "cell_type": "code",
   "execution_count": 141,
   "metadata": {
    "collapsed": true
   },
   "outputs": [],
   "source": [
    "tokens = \"a new sentence to match\".split()\n",
    "new_vector = model.infer_vector(tokens)\n",
    "sims = model.docvecs.most_similar([new_vector])"
   ]
  },
  {
   "cell_type": "code",
   "execution_count": 142,
   "metadata": {},
   "outputs": [
    {
     "data": {
      "text/plain": [
       "['a', 'new', 'sentence', 'to', 'match']"
      ]
     },
     "execution_count": 142,
     "metadata": {},
     "output_type": "execute_result"
    }
   ],
   "source": [
    "tokens"
   ]
  },
  {
   "cell_type": "code",
   "execution_count": 143,
   "metadata": {},
   "outputs": [
    {
     "data": {
      "text/plain": [
       "[('5', 0.5796298980712891),\n",
       " ('2', 0.5522679090499878),\n",
       " ('0', 0.5354814529418945),\n",
       " ('8', 0.5353261232376099),\n",
       " ('1', 0.48800280690193176),\n",
       " ('4', 0.47580161690711975),\n",
       " ('6', 0.43394842743873596),\n",
       " ('3', 0.3724934756755829),\n",
       " ('9', 0.28757989406585693),\n",
       " ('7', 0.2594819664955139)]"
      ]
     },
     "execution_count": 143,
     "metadata": {},
     "output_type": "execute_result"
    }
   ],
   "source": [
    "sims"
   ]
  },
  {
   "cell_type": "code",
   "execution_count": 47,
   "metadata": {},
   "outputs": [
    {
     "data": {
      "text/plain": [
       "[('herndon', 0.41789019107818604),\n",
       " ('fli', 0.3857005834579468),\n",
       " ('snack', 0.38542985916137695),\n",
       " ('kendrick', 0.34594595432281494),\n",
       " ('bicyclist', 0.33609557151794434),\n",
       " ('siren', 0.3339599370956421),\n",
       " ('questionedth', 0.332492470741272),\n",
       " ('journey', 0.3150555193424225),\n",
       " ('rashe', 0.2990562319755554),\n",
       " ('benn', 0.29865920543670654)]"
      ]
     },
     "execution_count": 47,
     "metadata": {},
     "output_type": "execute_result"
    }
   ],
   "source": [
    "model.similar_by_vector('bomb')"
   ]
  },
  {
   "cell_type": "code",
   "execution_count": 126,
   "metadata": {},
   "outputs": [
    {
     "data": {
      "text/plain": [
       "'99'"
      ]
     },
     "execution_count": 126,
     "metadata": {},
     "output_type": "execute_result"
    }
   ],
   "source": [
    "str(99)"
   ]
  },
  {
   "cell_type": "code",
   "execution_count": 95,
   "metadata": {},
   "outputs": [
    {
     "data": {
      "text/plain": [
       "\"The federal government has drawn up plans to send an additional $2.5 billion in aid to New York and New Jersey to help pay for the recovery from Hurricane Sandy, government officials said on Friday. The money, almost $1 billion of which would go to New York City, would constitute the third installment of aid from the $50 billion that Congress approved in early 2013. The rest of New York State would receive about $600 million and New Jersey would get about $880 million, the officials said. Nearly two-thirds of the latest allocation to the city is intended for the Build It Back housing program. Mayor Bill de Blasio of New York thanked Senator Charles E. Schumer, a fellow Democrat, for helping the city obtain the aid, which he said ''ensures that we'll be able to provide the support that every homeowner in the Build It Back pipeline needs and deserves.'' The latest allocations would bring the total awarded to New York and New Jersey to nearly $13 billion. New York State's total would rise to $4.4 billion, while New York City and New Jersey have been promised about $4.2 billion each. New Jersey's governor, Chris Christie, has criticized the federal government for providing nearly twice as much of the recovery aid to New York State, including the city, as to New Jersey. A spokesman for Governor Christie declined to comment on Friday. The three governments have yet to spend all of the first allocations they received and are still awaiting the money awarded in the second round. Their plans for how they would spend the second installments still need the approval of the federal Department of Housing and Urban Development. Gov. Andrew M. Cuomo of New York called the money the ''third and final tranche'' of the federal disaster relief. He said the state would spend most of it on infrastructure projects intended to help communities on Long Island and elsewhere protect themselves against future storms. Through its New York Rising program, the state spent much of the initial money it received on providing housing assistance and compensating homeowners for the costs of repairing and, in some cases, raising their houses off the ground. ''New Yorkers have suffered a tremendous burden in recent years with 100-year storms coming every year,'' Mr. Cuomo said in a prepared statement. Those and other ''weather emergencies,'' he said, have forced residents of the state ''to be innovative, resourceful and strategic in our recovery efforts.''\""
      ]
     },
     "execution_count": 95,
     "metadata": {},
     "output_type": "execute_result"
    }
   ],
   "source": [
    "doclist[6]"
   ]
  },
  {
   "cell_type": "code",
   "execution_count": 96,
   "metadata": {},
   "outputs": [
    {
     "data": {
      "text/plain": [
       "\"The 8-year-old juggling a soccer ball and the 48-year-old jogging by, with Japanese lessons ringing from her earbuds, have something fundamental in common: At some level, both are wondering whether their investment of time and effort is worth it. How good can I get? How much time will it take? Is it possible I'm a natural at this (for once)? What's the percentage in this, exactly? Scientists have long argued over the relative contributions of practice and native talent to the development of elite performance. This debate swings back and forth every century, it seems, but a paper in the current issue of the journal Psychological Science illustrates where the discussion now stands and hints -- more tantalizingly, for people who just want to do their best -- at where the research will go next. The value-of-practice debate has reached a stalemate. In a landmark 1993 study of musicians, a research team led by K. Anders Ericsson, a psychologist now at Florida State University, found that practice time explained almost all the difference (about 80 percent) between elite performers and committed amateurs. The finding rippled quickly through the popular culture, perhaps most visibly as the apparent inspiration for the ''10,000-hour rule'' in Malcolm Gladwell's best-selling ''Outliers'' -- a rough average of the amount of practice time required for expert performance. The new paper, the most comprehensive review of relevant research to date, comes to a different conclusion. Compiling results from 88 studies across a wide range of skills, it estimates that practice time explains about 20 percent to 25 percent of the difference in performance in music, sports and games like chess. In academics, the number is much lower -- 4 percent -- in part because it's hard to assess the effect of previous knowledge, the authors wrote. ''We found that, yes, practice is important, and of course it's absolutely necessary to achieve expertise,'' said Zach Hambrick, a psychologist at Michigan State University and a co-author of the paper, with Brooke Macnamara, now at Case Western Reserve University, and Frederick Oswald of Rice University. ''But it's not as important as many people have been saying'' compared to inborn gifts. One of those people, Dr. Ericsson, had by last week already written his critique of the new review. He points out that the paper uses a definition of practice that includes a variety of related activities, including playing music or sports for fun or playing in a group. But his own studies focused on what he calls deliberate practice: one-on-one lessons in which an instructor pushes a student continually, gives immediate feedback and focuses on weak spots. ''If you throw all these kinds of practice into one big soup, of course you are going to reduce the effect of deliberate practice,'' he said in a telephone interview. Dr. Hambrick said that using Dr. Ericsson's definition of practice would not change the results much, if at all, and partisans on both sides have staked out positions. Like most branches of the nature-nurture debate, this one has produced multiple camps, whose estimates of the effects of practice vary by as much as 50 percentage points. ''This is where we are, with people essentially talking past one another,'' said Scott Barry Kaufman, a psychologist at the University of Pennsylvania and scientific director of the Imagination Institute, which funds research into creativity. And because truly elite performance takes many years to achieve, he said, the exact contribution of practice may never be known precisely. Yet the range of findings and level of disagreement are themselves hints that there are likely to be factors involved in building expertise that are neither genetic nor related to the amount of practice time. One is the age at which a person picks up a violin, or a basketball, or a language. People who grow up in bilingual households fully integrate both languages at the same time that language-specialized areas in their brains are developing. The same may be true of many other skills -- there may exist a critical window of learning in childhood that primes the brain to pick up skills quickly later on. Other factors are much easier to control. For instance, scientists have shown that performance itself -- that is, testing oneself, from memory -- is a particularly strong form of practice. One of the studies that the new review paper includes found that chess masters with similar abilities varied widely in the amount of hours they reported practicing, from 3,000 to more than 25,000. ''We may find when looking more closely that playing in tournaments, under pressure, is an important factor,'' Dr. Hambrick said. The content of isolated practice is another. In dozens of experiments, scientists have shown that mixing related skills in a single practice session -- new material and old, scales and improvisation, crawl and backstroke -- seems to sharpen each skill more quickly than if practiced repeatedly on its own. Varying the place and timing of practice can help as well, for certain skills, studies suggest. ''The question is: What is the optimal kind of practice in the area you wish to achieve expertise?'' Dr. Ericsson said. ''These are things we are now beginning to study, in areas like medical training.'' Practice time is critical indeed, and its contribution to accumulated expertise is likely to vary from one field to the next as the new paper found, experts said. Personality is an enormous variable, too, (although partly genetic). ''Things like grit, motivation, and inspiration -- that ability to imagine achieving this high level, to fantasize about it,'' Dr. Kaufman said. ''These are things we don't know much about yet, and need to study more directly.'' But in the end, the most important factor over which people have control -- whether juggling, jogging or memorizing a script -- may be not how much they practice, but how effectively they use that time.\""
      ]
     },
     "execution_count": 96,
     "metadata": {},
     "output_type": "execute_result"
    }
   ],
   "source": [
    "doclist[5]"
   ]
  },
  {
   "cell_type": "code",
   "execution_count": 65,
   "metadata": {
    "collapsed": true
   },
   "outputs": [],
   "source": [
    "# load the word2vec\n",
    "#word2vec = gensim.models.Doc2Vec.load_word2vec_format('./trained.word2vec')\n",
    "#print (word2vec['good'])\n",
    " \n",
    "# load the doc2vec\n",
    "model1 = gensim.models.Doc2Vec.load('./trained.model')\n",
    "docvecs = model1.docvecs\n",
    "# print (docvecs[str(3)])"
   ]
  },
  {
   "cell_type": "code",
   "execution_count": null,
   "metadata": {
    "collapsed": true
   },
   "outputs": [],
   "source": []
  }
 ],
 "metadata": {
  "kernelspec": {
   "display_name": "Python 3",
   "language": "python",
   "name": "python3"
  },
  "language_info": {
   "codemirror_mode": {
    "name": "ipython",
    "version": 3
   },
   "file_extension": ".py",
   "mimetype": "text/x-python",
   "name": "python",
   "nbconvert_exporter": "python",
   "pygments_lexer": "ipython3",
   "version": "3.5.2"
  }
 },
 "nbformat": 4,
 "nbformat_minor": 2
}
