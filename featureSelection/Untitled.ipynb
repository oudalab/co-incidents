{
 "cells": [
  {
   "cell_type": "code",
   "execution_count": 2,
   "metadata": {},
   "outputs": [],
   "source": []
  },
  {
   "cell_type": "code",
   "execution_count": 3,
   "metadata": {
    "collapsed": true
   },
   "outputs": [],
   "source": [
    "import gensim\n",
    "import scipy\n",
    "import json\n",
    "import pickle\n",
    "with open('datawithdoc.txt','r') as infile:\n",
    "    docs=json.load(infile)\n",
    "embeds=pickle.load(open(\"dataWithEmbedding_notfidf.data\",\"rb\"))\n",
    "for doc in docs:\n",
    "    for embed in embeds:\n",
    "        if(doc['id']==embed['id']):\n",
    "            doc[\"embed\"]=embed['embed'].todense().tolist();\n",
    "            break;\n",
    "with open('datawithdocwithembed.json', 'w') as fp:\n",
    "    json.dump(docs, fp)"
   ]
  },
  {
   "cell_type": "code",
   "execution_count": null,
   "metadata": {
    "collapsed": true
   },
   "outputs": [],
   "source": []
  }
 ],
 "metadata": {
  "kernelspec": {
   "display_name": "new_vir",
   "language": "python",
   "name": "new_vir"
  },
  "language_info": {
   "codemirror_mode": {
    "name": "ipython",
    "version": 3
   },
   "file_extension": ".py",
   "mimetype": "text/x-python",
   "name": "python",
   "nbconvert_exporter": "python",
   "pygments_lexer": "ipython3",
   "version": "3.5.2"
  }
 },
 "nbformat": 4,
 "nbformat_minor": 2
}
