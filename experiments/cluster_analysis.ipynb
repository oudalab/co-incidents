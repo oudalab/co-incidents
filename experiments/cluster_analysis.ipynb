{
 "cells": [
  {
   "cell_type": "code",
   "execution_count": 8,
   "metadata": {
    "collapsed": true
   },
   "outputs": [],
   "source": [
    "import numpy as np\n",
    "import matplotlib.pyplot as pp\n",
    "\n"
   ]
  },
  {
   "cell_type": "code",
   "execution_count": 23,
   "metadata": {},
   "outputs": [],
   "source": [
    "def getdata(data_dir):\n",
    "    #data_dir=\"./exp1/stats.rst\"\n",
    "    with open(data_dir, 'r') as statsfile:\n",
    "        stats=statsfile.read().replace(\"\\n\",\"\").replace(\" \",\"\")\n",
    "    datastr=stats.split(\",\")\n",
    "    #print(datastr)\n",
    "    data=[]\n",
    "    for d in datastr:\n",
    "        if(d==''):\n",
    "            continue\n",
    "        try:\n",
    "            data.append(int(d))\n",
    "        except Exception as e:\n",
    "            print(e)   \n",
    "    return data\n",
    "    "
   ]
  },
  {
   "cell_type": "code",
   "execution_count": 29,
   "metadata": {},
   "outputs": [],
   "source": [
    "datadir=\"./exp2-test/stats.txt\"\n",
    "data=getdata(datadir)"
   ]
  },
  {
   "cell_type": "code",
   "execution_count": 30,
   "metadata": {},
   "outputs": [
    {
     "data": {
      "text/plain": [
       "11206"
      ]
     },
     "execution_count": 30,
     "metadata": {},
     "output_type": "execute_result"
    }
   ],
   "source": [
    "len(data)"
   ]
  },
  {
   "cell_type": "code",
   "execution_count": 34,
   "metadata": {},
   "outputs": [
    {
     "data": {
      "text/plain": [
       "<function matplotlib.pyplot.show>"
      ]
     },
     "execution_count": 34,
     "metadata": {},
     "output_type": "execute_result"
    },
    {
     "data": {
      "image/png": "[encoded data removed]",
      "text/plain": [
       "<Figure size 432x288 with 1 Axes>"
      ]
     },
     "metadata": {},
     "output_type": "display_data"
    }
   ],
   "source": [
    "#each record on x is 30 seconds\n",
    "#start with 459783 records, taken 65940 seconds and 764 links made.\n",
    "x=np.arange(len(data))\n",
    "y=data\n",
    "pp.plot(x, y, color='green', marker='*',\n",
    "        linewidth=1, markersize=1)\n",
    "pp.xlabel(\"time in 30 seconds\")\n",
    "pp.ylabel(\"# of sentences being linked\")\n",
    "pp.title(\"linked count per 30 seconds over time\")\n",
    "pp.show"
   ]
  },
  {
   "cell_type": "code",
   "execution_count": null,
   "metadata": {
    "collapsed": true
   },
   "outputs": [],
   "source": []
  }
 ],
 "metadata": {
  "kernelspec": {
   "display_name": "new_vir",
   "language": "python",
   "name": "new_vir"
  },
  "language_info": {
   "codemirror_mode": {
    "name": "ipython",
    "version": 3
   },
   "file_extension": ".py",
   "mimetype": "text/x-python",
   "name": "python",
   "nbconvert_exporter": "python",
   "pygments_lexer": "ipython3",
   "version": "3.5.2"
  }
 },
 "nbformat": 4,
 "nbformat_minor": 2
}
